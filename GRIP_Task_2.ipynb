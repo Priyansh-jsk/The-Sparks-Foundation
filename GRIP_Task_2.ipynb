{
  "nbformat": 4,
  "nbformat_minor": 0,
  "metadata": {
    "colab": {
      "name": "GRIP_Task-2.ipynb",
      "provenance": [],
      "collapsed_sections": []
    },
    "kernelspec": {
      "name": "python3",
      "display_name": "Python 3"
    }
  },
  "cells": [
    {
      "cell_type": "markdown",
      "metadata": {
        "id": "XEgWfqcRnBE2"
      },
      "source": [
        "# GRIP: The Sparks Foundation\r\n",
        "\r\n",
        "**Data Science & Business Analytics Intern**\r\n",
        "\r\n",
        "**Author = Priyansh Neema**\r\n",
        "\r\n",
        "**Task-2 = Prediction using UnSupervised ML**\r\n",
        "\r\n",
        "In this task we have predict the optimum number of clusters\r\n",
        "and represent it visually.\r\n",
        "\r\n",
        "Source ‘Iris’ Dataset = : https://bit.ly/3kXTdox"
      ]
    },
    {
      "cell_type": "markdown",
      "metadata": {
        "id": "KQVw6xapoEFp"
      },
      "source": [
        "**Importing the libraries**"
      ]
    },
    {
      "cell_type": "code",
      "metadata": {
        "id": "0HJ_7TWtm-MD"
      },
      "source": [
        "import numpy as np\r\n",
        "import matplotlib.pyplot as plt\r\n",
        "import pandas as pd"
      ],
      "execution_count": 52,
      "outputs": []
    },
    {
      "cell_type": "markdown",
      "metadata": {
        "id": "ISUDvBg-oV46"
      },
      "source": [
        "**Load the iris dataset**"
      ]
    },
    {
      "cell_type": "code",
      "metadata": {
        "colab": {
          "base_uri": "https://localhost:8080/",
          "height": 402
        },
        "id": "Ye8WIrqwoTVn",
        "outputId": "0a547fff-6a7c-4fa2-ed10-898475448aef"
      },
      "source": [
        "data = pd.read_csv(\"Iris.csv\")\r\n",
        "data"
      ],
      "execution_count": 53,
      "outputs": [
        {
          "output_type": "execute_result",
          "data": {
            "text/html": [
              "<div>\n",
              "<style scoped>\n",
              "    .dataframe tbody tr th:only-of-type {\n",
              "        vertical-align: middle;\n",
              "    }\n",
              "\n",
              "    .dataframe tbody tr th {\n",
              "        vertical-align: top;\n",
              "    }\n",
              "\n",
              "    .dataframe thead th {\n",
              "        text-align: right;\n",
              "    }\n",
              "</style>\n",
              "<table border=\"1\" class=\"dataframe\">\n",
              "  <thead>\n",
              "    <tr style=\"text-align: right;\">\n",
              "      <th></th>\n",
              "      <th>Id</th>\n",
              "      <th>SepalLengthCm</th>\n",
              "      <th>SepalWidthCm</th>\n",
              "      <th>PetalLengthCm</th>\n",
              "      <th>PetalWidthCm</th>\n",
              "      <th>Species</th>\n",
              "    </tr>\n",
              "  </thead>\n",
              "  <tbody>\n",
              "    <tr>\n",
              "      <th>0</th>\n",
              "      <td>1</td>\n",
              "      <td>5.1</td>\n",
              "      <td>3.5</td>\n",
              "      <td>1.4</td>\n",
              "      <td>0.2</td>\n",
              "      <td>Iris-setosa</td>\n",
              "    </tr>\n",
              "    <tr>\n",
              "      <th>1</th>\n",
              "      <td>2</td>\n",
              "      <td>4.9</td>\n",
              "      <td>3.0</td>\n",
              "      <td>1.4</td>\n",
              "      <td>0.2</td>\n",
              "      <td>Iris-setosa</td>\n",
              "    </tr>\n",
              "    <tr>\n",
              "      <th>2</th>\n",
              "      <td>3</td>\n",
              "      <td>4.7</td>\n",
              "      <td>3.2</td>\n",
              "      <td>1.3</td>\n",
              "      <td>0.2</td>\n",
              "      <td>Iris-setosa</td>\n",
              "    </tr>\n",
              "    <tr>\n",
              "      <th>3</th>\n",
              "      <td>4</td>\n",
              "      <td>4.6</td>\n",
              "      <td>3.1</td>\n",
              "      <td>1.5</td>\n",
              "      <td>0.2</td>\n",
              "      <td>Iris-setosa</td>\n",
              "    </tr>\n",
              "    <tr>\n",
              "      <th>4</th>\n",
              "      <td>5</td>\n",
              "      <td>5.0</td>\n",
              "      <td>3.6</td>\n",
              "      <td>1.4</td>\n",
              "      <td>0.2</td>\n",
              "      <td>Iris-setosa</td>\n",
              "    </tr>\n",
              "    <tr>\n",
              "      <th>...</th>\n",
              "      <td>...</td>\n",
              "      <td>...</td>\n",
              "      <td>...</td>\n",
              "      <td>...</td>\n",
              "      <td>...</td>\n",
              "      <td>...</td>\n",
              "    </tr>\n",
              "    <tr>\n",
              "      <th>145</th>\n",
              "      <td>146</td>\n",
              "      <td>6.7</td>\n",
              "      <td>3.0</td>\n",
              "      <td>5.2</td>\n",
              "      <td>2.3</td>\n",
              "      <td>Iris-virginica</td>\n",
              "    </tr>\n",
              "    <tr>\n",
              "      <th>146</th>\n",
              "      <td>147</td>\n",
              "      <td>6.3</td>\n",
              "      <td>2.5</td>\n",
              "      <td>5.0</td>\n",
              "      <td>1.9</td>\n",
              "      <td>Iris-virginica</td>\n",
              "    </tr>\n",
              "    <tr>\n",
              "      <th>147</th>\n",
              "      <td>148</td>\n",
              "      <td>6.5</td>\n",
              "      <td>3.0</td>\n",
              "      <td>5.2</td>\n",
              "      <td>2.0</td>\n",
              "      <td>Iris-virginica</td>\n",
              "    </tr>\n",
              "    <tr>\n",
              "      <th>148</th>\n",
              "      <td>149</td>\n",
              "      <td>6.2</td>\n",
              "      <td>3.4</td>\n",
              "      <td>5.4</td>\n",
              "      <td>2.3</td>\n",
              "      <td>Iris-virginica</td>\n",
              "    </tr>\n",
              "    <tr>\n",
              "      <th>149</th>\n",
              "      <td>150</td>\n",
              "      <td>5.9</td>\n",
              "      <td>3.0</td>\n",
              "      <td>5.1</td>\n",
              "      <td>1.8</td>\n",
              "      <td>Iris-virginica</td>\n",
              "    </tr>\n",
              "  </tbody>\n",
              "</table>\n",
              "<p>150 rows × 6 columns</p>\n",
              "</div>"
            ],
            "text/plain": [
              "      Id  SepalLengthCm  ...  PetalWidthCm         Species\n",
              "0      1            5.1  ...           0.2     Iris-setosa\n",
              "1      2            4.9  ...           0.2     Iris-setosa\n",
              "2      3            4.7  ...           0.2     Iris-setosa\n",
              "3      4            4.6  ...           0.2     Iris-setosa\n",
              "4      5            5.0  ...           0.2     Iris-setosa\n",
              "..   ...            ...  ...           ...             ...\n",
              "145  146            6.7  ...           2.3  Iris-virginica\n",
              "146  147            6.3  ...           1.9  Iris-virginica\n",
              "147  148            6.5  ...           2.0  Iris-virginica\n",
              "148  149            6.2  ...           2.3  Iris-virginica\n",
              "149  150            5.9  ...           1.8  Iris-virginica\n",
              "\n",
              "[150 rows x 6 columns]"
            ]
          },
          "metadata": {
            "tags": []
          },
          "execution_count": 53
        }
      ]
    },
    {
      "cell_type": "code",
      "metadata": {
        "colab": {
          "base_uri": "https://localhost:8080/",
          "height": 195
        },
        "id": "Cd1jF0vYoc8-",
        "outputId": "8d373c15-4fe6-4fb1-adaf-6551b6b10efa"
      },
      "source": [
        "data.head() # See the first 5 rows"
      ],
      "execution_count": 54,
      "outputs": [
        {
          "output_type": "execute_result",
          "data": {
            "text/html": [
              "<div>\n",
              "<style scoped>\n",
              "    .dataframe tbody tr th:only-of-type {\n",
              "        vertical-align: middle;\n",
              "    }\n",
              "\n",
              "    .dataframe tbody tr th {\n",
              "        vertical-align: top;\n",
              "    }\n",
              "\n",
              "    .dataframe thead th {\n",
              "        text-align: right;\n",
              "    }\n",
              "</style>\n",
              "<table border=\"1\" class=\"dataframe\">\n",
              "  <thead>\n",
              "    <tr style=\"text-align: right;\">\n",
              "      <th></th>\n",
              "      <th>Id</th>\n",
              "      <th>SepalLengthCm</th>\n",
              "      <th>SepalWidthCm</th>\n",
              "      <th>PetalLengthCm</th>\n",
              "      <th>PetalWidthCm</th>\n",
              "      <th>Species</th>\n",
              "    </tr>\n",
              "  </thead>\n",
              "  <tbody>\n",
              "    <tr>\n",
              "      <th>0</th>\n",
              "      <td>1</td>\n",
              "      <td>5.1</td>\n",
              "      <td>3.5</td>\n",
              "      <td>1.4</td>\n",
              "      <td>0.2</td>\n",
              "      <td>Iris-setosa</td>\n",
              "    </tr>\n",
              "    <tr>\n",
              "      <th>1</th>\n",
              "      <td>2</td>\n",
              "      <td>4.9</td>\n",
              "      <td>3.0</td>\n",
              "      <td>1.4</td>\n",
              "      <td>0.2</td>\n",
              "      <td>Iris-setosa</td>\n",
              "    </tr>\n",
              "    <tr>\n",
              "      <th>2</th>\n",
              "      <td>3</td>\n",
              "      <td>4.7</td>\n",
              "      <td>3.2</td>\n",
              "      <td>1.3</td>\n",
              "      <td>0.2</td>\n",
              "      <td>Iris-setosa</td>\n",
              "    </tr>\n",
              "    <tr>\n",
              "      <th>3</th>\n",
              "      <td>4</td>\n",
              "      <td>4.6</td>\n",
              "      <td>3.1</td>\n",
              "      <td>1.5</td>\n",
              "      <td>0.2</td>\n",
              "      <td>Iris-setosa</td>\n",
              "    </tr>\n",
              "    <tr>\n",
              "      <th>4</th>\n",
              "      <td>5</td>\n",
              "      <td>5.0</td>\n",
              "      <td>3.6</td>\n",
              "      <td>1.4</td>\n",
              "      <td>0.2</td>\n",
              "      <td>Iris-setosa</td>\n",
              "    </tr>\n",
              "  </tbody>\n",
              "</table>\n",
              "</div>"
            ],
            "text/plain": [
              "   Id  SepalLengthCm  SepalWidthCm  PetalLengthCm  PetalWidthCm      Species\n",
              "0   1            5.1           3.5            1.4           0.2  Iris-setosa\n",
              "1   2            4.9           3.0            1.4           0.2  Iris-setosa\n",
              "2   3            4.7           3.2            1.3           0.2  Iris-setosa\n",
              "3   4            4.6           3.1            1.5           0.2  Iris-setosa\n",
              "4   5            5.0           3.6            1.4           0.2  Iris-setosa"
            ]
          },
          "metadata": {
            "tags": []
          },
          "execution_count": 54
        }
      ]
    },
    {
      "cell_type": "code",
      "metadata": {
        "colab": {
          "base_uri": "https://localhost:8080/",
          "height": 195
        },
        "id": "JaVbIGBmDx-i",
        "outputId": "4f7fdb5c-f4c3-4b04-9af5-eb5a7d651cd7"
      },
      "source": [
        "data.tail() # See the last 5 rows"
      ],
      "execution_count": 55,
      "outputs": [
        {
          "output_type": "execute_result",
          "data": {
            "text/html": [
              "<div>\n",
              "<style scoped>\n",
              "    .dataframe tbody tr th:only-of-type {\n",
              "        vertical-align: middle;\n",
              "    }\n",
              "\n",
              "    .dataframe tbody tr th {\n",
              "        vertical-align: top;\n",
              "    }\n",
              "\n",
              "    .dataframe thead th {\n",
              "        text-align: right;\n",
              "    }\n",
              "</style>\n",
              "<table border=\"1\" class=\"dataframe\">\n",
              "  <thead>\n",
              "    <tr style=\"text-align: right;\">\n",
              "      <th></th>\n",
              "      <th>Id</th>\n",
              "      <th>SepalLengthCm</th>\n",
              "      <th>SepalWidthCm</th>\n",
              "      <th>PetalLengthCm</th>\n",
              "      <th>PetalWidthCm</th>\n",
              "      <th>Species</th>\n",
              "    </tr>\n",
              "  </thead>\n",
              "  <tbody>\n",
              "    <tr>\n",
              "      <th>145</th>\n",
              "      <td>146</td>\n",
              "      <td>6.7</td>\n",
              "      <td>3.0</td>\n",
              "      <td>5.2</td>\n",
              "      <td>2.3</td>\n",
              "      <td>Iris-virginica</td>\n",
              "    </tr>\n",
              "    <tr>\n",
              "      <th>146</th>\n",
              "      <td>147</td>\n",
              "      <td>6.3</td>\n",
              "      <td>2.5</td>\n",
              "      <td>5.0</td>\n",
              "      <td>1.9</td>\n",
              "      <td>Iris-virginica</td>\n",
              "    </tr>\n",
              "    <tr>\n",
              "      <th>147</th>\n",
              "      <td>148</td>\n",
              "      <td>6.5</td>\n",
              "      <td>3.0</td>\n",
              "      <td>5.2</td>\n",
              "      <td>2.0</td>\n",
              "      <td>Iris-virginica</td>\n",
              "    </tr>\n",
              "    <tr>\n",
              "      <th>148</th>\n",
              "      <td>149</td>\n",
              "      <td>6.2</td>\n",
              "      <td>3.4</td>\n",
              "      <td>5.4</td>\n",
              "      <td>2.3</td>\n",
              "      <td>Iris-virginica</td>\n",
              "    </tr>\n",
              "    <tr>\n",
              "      <th>149</th>\n",
              "      <td>150</td>\n",
              "      <td>5.9</td>\n",
              "      <td>3.0</td>\n",
              "      <td>5.1</td>\n",
              "      <td>1.8</td>\n",
              "      <td>Iris-virginica</td>\n",
              "    </tr>\n",
              "  </tbody>\n",
              "</table>\n",
              "</div>"
            ],
            "text/plain": [
              "      Id  SepalLengthCm  ...  PetalWidthCm         Species\n",
              "145  146            6.7  ...           2.3  Iris-virginica\n",
              "146  147            6.3  ...           1.9  Iris-virginica\n",
              "147  148            6.5  ...           2.0  Iris-virginica\n",
              "148  149            6.2  ...           2.3  Iris-virginica\n",
              "149  150            5.9  ...           1.8  Iris-virginica\n",
              "\n",
              "[5 rows x 6 columns]"
            ]
          },
          "metadata": {
            "tags": []
          },
          "execution_count": 55
        }
      ]
    },
    {
      "cell_type": "code",
      "metadata": {
        "colab": {
          "base_uri": "https://localhost:8080/"
        },
        "id": "lHltxBYRrYXo",
        "outputId": "66ca2ca9-1a0d-4850-8f49-522ca50ae6d2"
      },
      "source": [
        "data.info()"
      ],
      "execution_count": 56,
      "outputs": [
        {
          "output_type": "stream",
          "text": [
            "<class 'pandas.core.frame.DataFrame'>\n",
            "RangeIndex: 150 entries, 0 to 149\n",
            "Data columns (total 6 columns):\n",
            " #   Column         Non-Null Count  Dtype  \n",
            "---  ------         --------------  -----  \n",
            " 0   Id             150 non-null    int64  \n",
            " 1   SepalLengthCm  150 non-null    float64\n",
            " 2   SepalWidthCm   150 non-null    float64\n",
            " 3   PetalLengthCm  150 non-null    float64\n",
            " 4   PetalWidthCm   150 non-null    float64\n",
            " 5   Species        150 non-null    object \n",
            "dtypes: float64(4), int64(1), object(1)\n",
            "memory usage: 7.2+ KB\n"
          ],
          "name": "stdout"
        }
      ]
    },
    {
      "cell_type": "code",
      "metadata": {
        "colab": {
          "base_uri": "https://localhost:8080/",
          "height": 284
        },
        "id": "-SmAu2Jsruv3",
        "outputId": "c55e07d1-6573-4c19-fd1b-094e600a66cb"
      },
      "source": [
        "data.describe()"
      ],
      "execution_count": 57,
      "outputs": [
        {
          "output_type": "execute_result",
          "data": {
            "text/html": [
              "<div>\n",
              "<style scoped>\n",
              "    .dataframe tbody tr th:only-of-type {\n",
              "        vertical-align: middle;\n",
              "    }\n",
              "\n",
              "    .dataframe tbody tr th {\n",
              "        vertical-align: top;\n",
              "    }\n",
              "\n",
              "    .dataframe thead th {\n",
              "        text-align: right;\n",
              "    }\n",
              "</style>\n",
              "<table border=\"1\" class=\"dataframe\">\n",
              "  <thead>\n",
              "    <tr style=\"text-align: right;\">\n",
              "      <th></th>\n",
              "      <th>Id</th>\n",
              "      <th>SepalLengthCm</th>\n",
              "      <th>SepalWidthCm</th>\n",
              "      <th>PetalLengthCm</th>\n",
              "      <th>PetalWidthCm</th>\n",
              "    </tr>\n",
              "  </thead>\n",
              "  <tbody>\n",
              "    <tr>\n",
              "      <th>count</th>\n",
              "      <td>150.000000</td>\n",
              "      <td>150.000000</td>\n",
              "      <td>150.000000</td>\n",
              "      <td>150.000000</td>\n",
              "      <td>150.000000</td>\n",
              "    </tr>\n",
              "    <tr>\n",
              "      <th>mean</th>\n",
              "      <td>75.500000</td>\n",
              "      <td>5.843333</td>\n",
              "      <td>3.054000</td>\n",
              "      <td>3.758667</td>\n",
              "      <td>1.198667</td>\n",
              "    </tr>\n",
              "    <tr>\n",
              "      <th>std</th>\n",
              "      <td>43.445368</td>\n",
              "      <td>0.828066</td>\n",
              "      <td>0.433594</td>\n",
              "      <td>1.764420</td>\n",
              "      <td>0.763161</td>\n",
              "    </tr>\n",
              "    <tr>\n",
              "      <th>min</th>\n",
              "      <td>1.000000</td>\n",
              "      <td>4.300000</td>\n",
              "      <td>2.000000</td>\n",
              "      <td>1.000000</td>\n",
              "      <td>0.100000</td>\n",
              "    </tr>\n",
              "    <tr>\n",
              "      <th>25%</th>\n",
              "      <td>38.250000</td>\n",
              "      <td>5.100000</td>\n",
              "      <td>2.800000</td>\n",
              "      <td>1.600000</td>\n",
              "      <td>0.300000</td>\n",
              "    </tr>\n",
              "    <tr>\n",
              "      <th>50%</th>\n",
              "      <td>75.500000</td>\n",
              "      <td>5.800000</td>\n",
              "      <td>3.000000</td>\n",
              "      <td>4.350000</td>\n",
              "      <td>1.300000</td>\n",
              "    </tr>\n",
              "    <tr>\n",
              "      <th>75%</th>\n",
              "      <td>112.750000</td>\n",
              "      <td>6.400000</td>\n",
              "      <td>3.300000</td>\n",
              "      <td>5.100000</td>\n",
              "      <td>1.800000</td>\n",
              "    </tr>\n",
              "    <tr>\n",
              "      <th>max</th>\n",
              "      <td>150.000000</td>\n",
              "      <td>7.900000</td>\n",
              "      <td>4.400000</td>\n",
              "      <td>6.900000</td>\n",
              "      <td>2.500000</td>\n",
              "    </tr>\n",
              "  </tbody>\n",
              "</table>\n",
              "</div>"
            ],
            "text/plain": [
              "               Id  SepalLengthCm  SepalWidthCm  PetalLengthCm  PetalWidthCm\n",
              "count  150.000000     150.000000    150.000000     150.000000    150.000000\n",
              "mean    75.500000       5.843333      3.054000       3.758667      1.198667\n",
              "std     43.445368       0.828066      0.433594       1.764420      0.763161\n",
              "min      1.000000       4.300000      2.000000       1.000000      0.100000\n",
              "25%     38.250000       5.100000      2.800000       1.600000      0.300000\n",
              "50%     75.500000       5.800000      3.000000       4.350000      1.300000\n",
              "75%    112.750000       6.400000      3.300000       5.100000      1.800000\n",
              "max    150.000000       7.900000      4.400000       6.900000      2.500000"
            ]
          },
          "metadata": {
            "tags": []
          },
          "execution_count": 57
        }
      ]
    },
    {
      "cell_type": "code",
      "metadata": {
        "colab": {
          "base_uri": "https://localhost:8080/"
        },
        "id": "G9SEcmpjrzy_",
        "outputId": "fc5db64f-ced0-49ce-98a5-16f6dd1210a5"
      },
      "source": [
        "data.shape"
      ],
      "execution_count": 58,
      "outputs": [
        {
          "output_type": "execute_result",
          "data": {
            "text/plain": [
              "(150, 6)"
            ]
          },
          "metadata": {
            "tags": []
          },
          "execution_count": 58
        }
      ]
    },
    {
      "cell_type": "code",
      "metadata": {
        "colab": {
          "base_uri": "https://localhost:8080/"
        },
        "id": "u5Kw9RAjr8yW",
        "outputId": "2fe345f7-2234-4ec9-8255-ce50022d0a92"
      },
      "source": [
        "data.columns"
      ],
      "execution_count": 59,
      "outputs": [
        {
          "output_type": "execute_result",
          "data": {
            "text/plain": [
              "Index(['Id', 'SepalLengthCm', 'SepalWidthCm', 'PetalLengthCm', 'PetalWidthCm',\n",
              "       'Species'],\n",
              "      dtype='object')"
            ]
          },
          "metadata": {
            "tags": []
          },
          "execution_count": 59
        }
      ]
    },
    {
      "cell_type": "code",
      "metadata": {
        "colab": {
          "base_uri": "https://localhost:8080/"
        },
        "id": "bwO4HJ0cK37b",
        "outputId": "527cb464-ed5b-47d9-b1be-aa5546e59601"
      },
      "source": [
        "x = data.iloc[:, [0, 1, 2, 3]].values\r\n",
        "x"
      ],
      "execution_count": 60,
      "outputs": [
        {
          "output_type": "execute_result",
          "data": {
            "text/plain": [
              "array([[  1. ,   5.1,   3.5,   1.4],\n",
              "       [  2. ,   4.9,   3. ,   1.4],\n",
              "       [  3. ,   4.7,   3.2,   1.3],\n",
              "       [  4. ,   4.6,   3.1,   1.5],\n",
              "       [  5. ,   5. ,   3.6,   1.4],\n",
              "       [  6. ,   5.4,   3.9,   1.7],\n",
              "       [  7. ,   4.6,   3.4,   1.4],\n",
              "       [  8. ,   5. ,   3.4,   1.5],\n",
              "       [  9. ,   4.4,   2.9,   1.4],\n",
              "       [ 10. ,   4.9,   3.1,   1.5],\n",
              "       [ 11. ,   5.4,   3.7,   1.5],\n",
              "       [ 12. ,   4.8,   3.4,   1.6],\n",
              "       [ 13. ,   4.8,   3. ,   1.4],\n",
              "       [ 14. ,   4.3,   3. ,   1.1],\n",
              "       [ 15. ,   5.8,   4. ,   1.2],\n",
              "       [ 16. ,   5.7,   4.4,   1.5],\n",
              "       [ 17. ,   5.4,   3.9,   1.3],\n",
              "       [ 18. ,   5.1,   3.5,   1.4],\n",
              "       [ 19. ,   5.7,   3.8,   1.7],\n",
              "       [ 20. ,   5.1,   3.8,   1.5],\n",
              "       [ 21. ,   5.4,   3.4,   1.7],\n",
              "       [ 22. ,   5.1,   3.7,   1.5],\n",
              "       [ 23. ,   4.6,   3.6,   1. ],\n",
              "       [ 24. ,   5.1,   3.3,   1.7],\n",
              "       [ 25. ,   4.8,   3.4,   1.9],\n",
              "       [ 26. ,   5. ,   3. ,   1.6],\n",
              "       [ 27. ,   5. ,   3.4,   1.6],\n",
              "       [ 28. ,   5.2,   3.5,   1.5],\n",
              "       [ 29. ,   5.2,   3.4,   1.4],\n",
              "       [ 30. ,   4.7,   3.2,   1.6],\n",
              "       [ 31. ,   4.8,   3.1,   1.6],\n",
              "       [ 32. ,   5.4,   3.4,   1.5],\n",
              "       [ 33. ,   5.2,   4.1,   1.5],\n",
              "       [ 34. ,   5.5,   4.2,   1.4],\n",
              "       [ 35. ,   4.9,   3.1,   1.5],\n",
              "       [ 36. ,   5. ,   3.2,   1.2],\n",
              "       [ 37. ,   5.5,   3.5,   1.3],\n",
              "       [ 38. ,   4.9,   3.1,   1.5],\n",
              "       [ 39. ,   4.4,   3. ,   1.3],\n",
              "       [ 40. ,   5.1,   3.4,   1.5],\n",
              "       [ 41. ,   5. ,   3.5,   1.3],\n",
              "       [ 42. ,   4.5,   2.3,   1.3],\n",
              "       [ 43. ,   4.4,   3.2,   1.3],\n",
              "       [ 44. ,   5. ,   3.5,   1.6],\n",
              "       [ 45. ,   5.1,   3.8,   1.9],\n",
              "       [ 46. ,   4.8,   3. ,   1.4],\n",
              "       [ 47. ,   5.1,   3.8,   1.6],\n",
              "       [ 48. ,   4.6,   3.2,   1.4],\n",
              "       [ 49. ,   5.3,   3.7,   1.5],\n",
              "       [ 50. ,   5. ,   3.3,   1.4],\n",
              "       [ 51. ,   7. ,   3.2,   4.7],\n",
              "       [ 52. ,   6.4,   3.2,   4.5],\n",
              "       [ 53. ,   6.9,   3.1,   4.9],\n",
              "       [ 54. ,   5.5,   2.3,   4. ],\n",
              "       [ 55. ,   6.5,   2.8,   4.6],\n",
              "       [ 56. ,   5.7,   2.8,   4.5],\n",
              "       [ 57. ,   6.3,   3.3,   4.7],\n",
              "       [ 58. ,   4.9,   2.4,   3.3],\n",
              "       [ 59. ,   6.6,   2.9,   4.6],\n",
              "       [ 60. ,   5.2,   2.7,   3.9],\n",
              "       [ 61. ,   5. ,   2. ,   3.5],\n",
              "       [ 62. ,   5.9,   3. ,   4.2],\n",
              "       [ 63. ,   6. ,   2.2,   4. ],\n",
              "       [ 64. ,   6.1,   2.9,   4.7],\n",
              "       [ 65. ,   5.6,   2.9,   3.6],\n",
              "       [ 66. ,   6.7,   3.1,   4.4],\n",
              "       [ 67. ,   5.6,   3. ,   4.5],\n",
              "       [ 68. ,   5.8,   2.7,   4.1],\n",
              "       [ 69. ,   6.2,   2.2,   4.5],\n",
              "       [ 70. ,   5.6,   2.5,   3.9],\n",
              "       [ 71. ,   5.9,   3.2,   4.8],\n",
              "       [ 72. ,   6.1,   2.8,   4. ],\n",
              "       [ 73. ,   6.3,   2.5,   4.9],\n",
              "       [ 74. ,   6.1,   2.8,   4.7],\n",
              "       [ 75. ,   6.4,   2.9,   4.3],\n",
              "       [ 76. ,   6.6,   3. ,   4.4],\n",
              "       [ 77. ,   6.8,   2.8,   4.8],\n",
              "       [ 78. ,   6.7,   3. ,   5. ],\n",
              "       [ 79. ,   6. ,   2.9,   4.5],\n",
              "       [ 80. ,   5.7,   2.6,   3.5],\n",
              "       [ 81. ,   5.5,   2.4,   3.8],\n",
              "       [ 82. ,   5.5,   2.4,   3.7],\n",
              "       [ 83. ,   5.8,   2.7,   3.9],\n",
              "       [ 84. ,   6. ,   2.7,   5.1],\n",
              "       [ 85. ,   5.4,   3. ,   4.5],\n",
              "       [ 86. ,   6. ,   3.4,   4.5],\n",
              "       [ 87. ,   6.7,   3.1,   4.7],\n",
              "       [ 88. ,   6.3,   2.3,   4.4],\n",
              "       [ 89. ,   5.6,   3. ,   4.1],\n",
              "       [ 90. ,   5.5,   2.5,   4. ],\n",
              "       [ 91. ,   5.5,   2.6,   4.4],\n",
              "       [ 92. ,   6.1,   3. ,   4.6],\n",
              "       [ 93. ,   5.8,   2.6,   4. ],\n",
              "       [ 94. ,   5. ,   2.3,   3.3],\n",
              "       [ 95. ,   5.6,   2.7,   4.2],\n",
              "       [ 96. ,   5.7,   3. ,   4.2],\n",
              "       [ 97. ,   5.7,   2.9,   4.2],\n",
              "       [ 98. ,   6.2,   2.9,   4.3],\n",
              "       [ 99. ,   5.1,   2.5,   3. ],\n",
              "       [100. ,   5.7,   2.8,   4.1],\n",
              "       [101. ,   6.3,   3.3,   6. ],\n",
              "       [102. ,   5.8,   2.7,   5.1],\n",
              "       [103. ,   7.1,   3. ,   5.9],\n",
              "       [104. ,   6.3,   2.9,   5.6],\n",
              "       [105. ,   6.5,   3. ,   5.8],\n",
              "       [106. ,   7.6,   3. ,   6.6],\n",
              "       [107. ,   4.9,   2.5,   4.5],\n",
              "       [108. ,   7.3,   2.9,   6.3],\n",
              "       [109. ,   6.7,   2.5,   5.8],\n",
              "       [110. ,   7.2,   3.6,   6.1],\n",
              "       [111. ,   6.5,   3.2,   5.1],\n",
              "       [112. ,   6.4,   2.7,   5.3],\n",
              "       [113. ,   6.8,   3. ,   5.5],\n",
              "       [114. ,   5.7,   2.5,   5. ],\n",
              "       [115. ,   5.8,   2.8,   5.1],\n",
              "       [116. ,   6.4,   3.2,   5.3],\n",
              "       [117. ,   6.5,   3. ,   5.5],\n",
              "       [118. ,   7.7,   3.8,   6.7],\n",
              "       [119. ,   7.7,   2.6,   6.9],\n",
              "       [120. ,   6. ,   2.2,   5. ],\n",
              "       [121. ,   6.9,   3.2,   5.7],\n",
              "       [122. ,   5.6,   2.8,   4.9],\n",
              "       [123. ,   7.7,   2.8,   6.7],\n",
              "       [124. ,   6.3,   2.7,   4.9],\n",
              "       [125. ,   6.7,   3.3,   5.7],\n",
              "       [126. ,   7.2,   3.2,   6. ],\n",
              "       [127. ,   6.2,   2.8,   4.8],\n",
              "       [128. ,   6.1,   3. ,   4.9],\n",
              "       [129. ,   6.4,   2.8,   5.6],\n",
              "       [130. ,   7.2,   3. ,   5.8],\n",
              "       [131. ,   7.4,   2.8,   6.1],\n",
              "       [132. ,   7.9,   3.8,   6.4],\n",
              "       [133. ,   6.4,   2.8,   5.6],\n",
              "       [134. ,   6.3,   2.8,   5.1],\n",
              "       [135. ,   6.1,   2.6,   5.6],\n",
              "       [136. ,   7.7,   3. ,   6.1],\n",
              "       [137. ,   6.3,   3.4,   5.6],\n",
              "       [138. ,   6.4,   3.1,   5.5],\n",
              "       [139. ,   6. ,   3. ,   4.8],\n",
              "       [140. ,   6.9,   3.1,   5.4],\n",
              "       [141. ,   6.7,   3.1,   5.6],\n",
              "       [142. ,   6.9,   3.1,   5.1],\n",
              "       [143. ,   5.8,   2.7,   5.1],\n",
              "       [144. ,   6.8,   3.2,   5.9],\n",
              "       [145. ,   6.7,   3.3,   5.7],\n",
              "       [146. ,   6.7,   3. ,   5.2],\n",
              "       [147. ,   6.3,   2.5,   5. ],\n",
              "       [148. ,   6.5,   3. ,   5.2],\n",
              "       [149. ,   6.2,   3.4,   5.4],\n",
              "       [150. ,   5.9,   3. ,   5.1]])"
            ]
          },
          "metadata": {
            "tags": []
          },
          "execution_count": 60
        }
      ]
    },
    {
      "cell_type": "markdown",
      "metadata": {
        "id": "tVQSiDsiqjxL"
      },
      "source": [
        "**Finding the optimum number of clusters for k-means classification**"
      ]
    },
    {
      "cell_type": "code",
      "metadata": {
        "id": "p4MLDGkwqeid"
      },
      "source": [
        "from sklearn.cluster import KMeans\r\n",
        "wcss = []\r\n",
        "\r\n",
        "for i in range(1, 11):\r\n",
        "    kmeans = KMeans(n_clusters = i, init = 'k-means++', max_iter = 300, n_init = 10, random_state = 0)\r\n",
        "    kmeans.fit(x)\r\n",
        "    wcss.append(kmeans.inertia_)"
      ],
      "execution_count": 61,
      "outputs": []
    },
    {
      "cell_type": "markdown",
      "metadata": {
        "id": "aG_DI6Z8LUWF"
      },
      "source": [
        "**Plotting the results onto a line graph, `allowing us to observe 'The elbow'**"
      ]
    },
    {
      "cell_type": "code",
      "metadata": {
        "id": "BRlh1QhsqtSx",
        "colab": {
          "base_uri": "https://localhost:8080/",
          "height": 295
        },
        "outputId": "603a5f63-4cd2-4987-82ce-979298ed81df"
      },
      "source": [
        "plt.plot(range(1, 11), wcss)\r\n",
        "plt.title('The elbow method')\r\n",
        "plt.xlabel('Number of clusters')\r\n",
        "plt.ylabel('WCSS') # Within cluster sum of squares\r\n",
        "plt.grid()\r\n",
        "plt.show()"
      ],
      "execution_count": 62,
      "outputs": [
        {
          "output_type": "display_data",
          "data": {
            "image/png": "[encoded data removed]",
            "text/plain": [
              "<Figure size 432x288 with 1 Axes>"
            ]
          },
          "metadata": {
            "tags": [],
            "needs_background": "light"
          }
        }
      ]
    },
    {
      "cell_type": "markdown",
      "metadata": {
        "id": "b4JVMkBcL15L"
      },
      "source": [
        "**You can clearly see why it is called 'The elbow method' from the above graph, the optimum clusters is where the elbow occurs. This is when the within cluster sum of squares (WCSS) doesn't decrease significantly with every iteration.**\r\n",
        "\r\n",
        "From this we choose the number of clusters as *'3'*"
      ]
    },
    {
      "cell_type": "markdown",
      "metadata": {
        "id": "vHzXyxwFMAuL"
      },
      "source": [
        "**Applying kmeans to the dataset / Creating the kmeans classifier**"
      ]
    },
    {
      "cell_type": "code",
      "metadata": {
        "id": "P9rMUcX7Lqas"
      },
      "source": [
        "kmeans = KMeans(n_clusters = 3, init = 'k-means++',max_iter = 300, n_init = 10, random_state = 0)\r\n",
        "y_kmeans = kmeans.fit_predict(x)"
      ],
      "execution_count": 63,
      "outputs": []
    },
    {
      "cell_type": "code",
      "metadata": {
        "colab": {
          "base_uri": "https://localhost:8080/"
        },
        "id": "RxjbruCoMMOw",
        "outputId": "94a558e7-b39b-4dfc-8044-8324a190c66e"
      },
      "source": [
        "y_kmeans"
      ],
      "execution_count": 64,
      "outputs": [
        {
          "output_type": "execute_result",
          "data": {
            "text/plain": [
              "array([1, 1, 1, 1, 1, 1, 1, 1, 1, 1, 1, 1, 1, 1, 1, 1, 1, 1, 1, 1, 1, 1,\n",
              "       1, 1, 1, 1, 1, 1, 1, 1, 1, 1, 1, 1, 1, 1, 1, 1, 1, 1, 1, 1, 1, 1,\n",
              "       1, 1, 1, 1, 1, 1, 2, 2, 2, 2, 2, 2, 2, 2, 2, 2, 2, 2, 2, 2, 2, 2,\n",
              "       2, 2, 2, 2, 2, 2, 2, 2, 2, 2, 2, 2, 2, 2, 2, 2, 2, 2, 2, 2, 2, 2,\n",
              "       2, 2, 2, 2, 2, 2, 2, 2, 2, 2, 2, 2, 0, 0, 0, 0, 0, 0, 0, 0, 0, 0,\n",
              "       0, 0, 0, 0, 0, 0, 0, 0, 0, 0, 0, 0, 0, 0, 0, 0, 0, 0, 0, 0, 0, 0,\n",
              "       0, 0, 0, 0, 0, 0, 0, 0, 0, 0, 0, 0, 0, 0, 0, 0, 0, 0], dtype=int32)"
            ]
          },
          "metadata": {
            "tags": []
          },
          "execution_count": 64
        }
      ]
    },
    {
      "cell_type": "markdown",
      "metadata": {
        "id": "bRtFoSRXMTKc"
      },
      "source": [
        "**Visualising the clusters - On the first two columns**"
      ]
    },
    {
      "cell_type": "code",
      "metadata": {
        "colab": {
          "base_uri": "https://localhost:8080/",
          "height": 312
        },
        "id": "HjRoTaXVMP7B",
        "outputId": "e5e50cd6-276e-4f76-b023-06b54f8524f2"
      },
      "source": [
        "plt.scatter(x[y_kmeans == 0, 0], x[y_kmeans == 0, 1], s = 100, c = 'red', label = 'Iris-setosa')\r\n",
        "plt.scatter(x[y_kmeans == 1, 0], x[y_kmeans == 1, 1], s = 100, c = 'blue', label = 'Iris-versicolour')\r\n",
        "plt.scatter(x[y_kmeans == 2, 0], x[y_kmeans == 2, 1], s = 100, c = 'yellow', label = 'Iris-virginica')\r\n",
        "\r\n",
        "#Plotting the centroids of the clusters\r\n",
        "\r\n",
        "plt.scatter(kmeans.cluster_centers_[:, 0], kmeans.cluster_centers_[:,1], s = 100, c = 'green', label = 'Centroids')\r\n",
        "plt.title(\"Clusters of customers\")\r\n",
        "plt.xlabel(\"Clusters\")\r\n",
        "plt.ylabel(\"Score\")\r\n",
        "plt.legend()"
      ],
      "execution_count": 65,
      "outputs": [
        {
          "output_type": "execute_result",
          "data": {
            "text/plain": [
              "<matplotlib.legend.Legend at 0x7f7f988496d8>"
            ]
          },
          "metadata": {
            "tags": []
          },
          "execution_count": 65
        },
        {
          "output_type": "display_data",
          "data": {
            "image/png": "[encoded data removed]",
            "text/plain": [
              "<Figure size 432x288 with 1 Axes>"
            ]
          },
          "metadata": {
            "tags": [],
            "needs_background": "light"
          }
        }
      ]
    },
    {
      "cell_type": "markdown",
      "metadata": {
        "id": "etjugTDiOEIs"
      },
      "source": [
        "**Thank You**"
      ]
    }
  ]
}